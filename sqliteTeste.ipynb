{
  "nbformat": 4,
  "nbformat_minor": 0,
  "metadata": {
    "colab": {
      "name": "sqliteTeste.ipynb",
      "provenance": [],
      "authorship_tag": "ABX9TyMmadHoUFvZajnj8j/QUeEC",
      "include_colab_link": true
    },
    "kernelspec": {
      "name": "python3",
      "display_name": "Python 3"
    }
  },
  "cells": [
    {
      "cell_type": "markdown",
      "metadata": {
        "id": "view-in-github",
        "colab_type": "text"
      },
      "source": [
        "<a href=\"https://colab.research.google.com/github/medinabopp/notebooks_Testes/blob/main/sqliteTeste.ipynb\" target=\"_parent\"><img src=\"https://colab.research.google.com/assets/colab-badge.svg\" alt=\"Open In Colab\"/></a>"
      ]
    },
    {
      "cell_type": "code",
      "metadata": {
        "id": "cpbgEGApoSJh"
      },
      "source": [
        "import sqlite3"
      ],
      "execution_count": 2,
      "outputs": []
    },
    {
      "cell_type": "code",
      "metadata": {
        "id": "5c2DkvPAoiDY"
      },
      "source": [
        "con = sqlite3.connect('escola.db')"
      ],
      "execution_count": 3,
      "outputs": []
    },
    {
      "cell_type": "code",
      "metadata": {
        "id": "8Q_xdWX9ooaN",
        "outputId": "5e9b1bbd-8ef9-4c17-a9cb-ae81b9ba2567",
        "colab": {
          "base_uri": "https://localhost:8080/",
          "height": 34
        }
      },
      "source": [
        "type(con)"
      ],
      "execution_count": 4,
      "outputs": [
        {
          "output_type": "execute_result",
          "data": {
            "text/plain": [
              "sqlite3.Connection"
            ]
          },
          "metadata": {
            "tags": []
          },
          "execution_count": 4
        }
      ]
    },
    {
      "cell_type": "code",
      "metadata": {
        "id": "hwT1oVywouGA"
      },
      "source": [
        "cur = con.cursor()"
      ],
      "execution_count": 6,
      "outputs": []
    },
    {
      "cell_type": "code",
      "metadata": {
        "id": "LVaI5V3Mo1sC",
        "outputId": "e7fa3119-29c3-495a-d137-e103890df48e",
        "colab": {
          "base_uri": "https://localhost:8080/",
          "height": 34
        }
      },
      "source": [
        "type(cur)"
      ],
      "execution_count": 7,
      "outputs": [
        {
          "output_type": "execute_result",
          "data": {
            "text/plain": [
              "sqlite3.Cursor"
            ]
          },
          "metadata": {
            "tags": []
          },
          "execution_count": 7
        }
      ]
    },
    {
      "cell_type": "code",
      "metadata": {
        "id": "1Fd3xrLZo12P"
      },
      "source": [
        "sql_create = 'create table cursos '\\\n",
        "'(id integer primary key '\\\n",
        "', titulo varchar(100) '\\\n",
        "', categoria varchar(140))'\n"
      ],
      "execution_count": 8,
      "outputs": []
    },
    {
      "cell_type": "code",
      "metadata": {
        "id": "m6u5GQoVo2AB",
        "outputId": "bc4e3653-4f2a-41ea-81ba-25cf1e13238b",
        "colab": {
          "base_uri": "https://localhost:8080/",
          "height": 34
        }
      },
      "source": [
        "cur.execute(sql_create)"
      ],
      "execution_count": 9,
      "outputs": [
        {
          "output_type": "execute_result",
          "data": {
            "text/plain": [
              "<sqlite3.Cursor at 0x7fdc95fe9c70>"
            ]
          },
          "metadata": {
            "tags": []
          },
          "execution_count": 9
        }
      ]
    },
    {
      "cell_type": "code",
      "metadata": {
        "id": "fTRBt3GSo2IK"
      },
      "source": [
        "sql_insert = 'insert into cursos values (?, ?, ?)'"
      ],
      "execution_count": 14,
      "outputs": []
    },
    {
      "cell_type": "code",
      "metadata": {
        "id": "T4riS-i766bq"
      },
      "source": [
        "recset = [(1000, 'ciencia de dados', 'data science'), \n",
        "          (1001, 'big data fundamentos', 'big data'),\n",
        "          (1002, 'python fundamentos', 'analise de dados')]"
      ],
      "execution_count": 11,
      "outputs": []
    },
    {
      "cell_type": "code",
      "metadata": {
        "id": "ayVJuzBk66j2"
      },
      "source": [
        "for rec in recset:\n",
        "    con.execute(sql_insert, rec)"
      ],
      "execution_count": 15,
      "outputs": []
    },
    {
      "cell_type": "code",
      "metadata": {
        "id": "kavmP3KJ66l0"
      },
      "source": [
        "con.commit()"
      ],
      "execution_count": 16,
      "outputs": []
    },
    {
      "cell_type": "code",
      "metadata": {
        "id": "NU_g9rG066pz"
      },
      "source": [
        "sql_select = 'select * from cursos'"
      ],
      "execution_count": 18,
      "outputs": []
    },
    {
      "cell_type": "code",
      "metadata": {
        "id": "Ht5Pp0CO66st",
        "outputId": "a5043b18-65d1-4d13-b2e7-fc01eeb5fcda",
        "colab": {
          "base_uri": "https://localhost:8080/",
          "height": 34
        }
      },
      "source": [
        "cur.execute(sql_select)"
      ],
      "execution_count": 19,
      "outputs": [
        {
          "output_type": "execute_result",
          "data": {
            "text/plain": [
              "<sqlite3.Cursor at 0x7fdc95fe9c70>"
            ]
          },
          "metadata": {
            "tags": []
          },
          "execution_count": 19
        }
      ]
    },
    {
      "cell_type": "code",
      "metadata": {
        "id": "c7X6Qdlp8rfT"
      },
      "source": [
        "dados = cur.fetchall()"
      ],
      "execution_count": 20,
      "outputs": []
    },
    {
      "cell_type": "code",
      "metadata": {
        "id": "JG7cv86V8ruv",
        "outputId": "f0edcfd3-6c56-4a8c-a9c4-4f30d58fd2a8",
        "colab": {
          "base_uri": "https://localhost:8080/",
          "height": 118
        }
      },
      "source": [
        "for linha in dados:\n",
        "    print('curso id: %d, titulo: %s, categoria:%s \\n' % linha)  "
      ],
      "execution_count": 21,
      "outputs": [
        {
          "output_type": "stream",
          "text": [
            "curso id: 1000, titulo: ciencia de dados, categoria:data science \n",
            "\n",
            "curso id: 1001, titulo: big data fundamentos, categoria:big data \n",
            "\n",
            "curso id: 1002, titulo: python fundamentos, categoria:analise de dados \n",
            "\n"
          ],
          "name": "stdout"
        }
      ]
    },
    {
      "cell_type": "code",
      "metadata": {
        "id": "DSjOk6PK8r5_"
      },
      "source": [
        ""
      ],
      "execution_count": null,
      "outputs": []
    },
    {
      "cell_type": "code",
      "metadata": {
        "id": "lrl-pjSA8sJ7"
      },
      "source": [
        ""
      ],
      "execution_count": null,
      "outputs": []
    },
    {
      "cell_type": "code",
      "metadata": {
        "id": "KRecAkcv8sWs"
      },
      "source": [
        ""
      ],
      "execution_count": null,
      "outputs": []
    }
  ]
}